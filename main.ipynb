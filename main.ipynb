{
 "cells": [
  {
   "cell_type": "code",
   "execution_count": 62,
   "id": "1b2a25a2",
   "metadata": {},
   "outputs": [
    {
     "data": {
      "text/plain": [
       "8716"
      ]
     },
     "execution_count": 62,
     "metadata": {},
     "output_type": "execute_result"
    }
   ],
   "source": [
    "import os\n",
    "import json\n",
    "\n",
    "from tokenizers import Tokenizer\n",
    "from tokenizers.pre_tokenizers import WhitespaceSplit\n",
    "from tokenizers.models import WordLevel\n",
    "from tokenizers.processors import TemplateProcessing\n",
    "from tokenizers.trainers import WordLevelTrainer\n",
    "from transformers import PreTrainedTokenizerFast\n",
    "from datasets import Dataset\n",
    "\n",
    "with open(\"solves.json\", \"r\") as f:\n",
    "    data = json.load(f)\n",
    "\n",
    "len(data)"
   ]
  },
  {
   "cell_type": "markdown",
   "id": "8fbc45a8",
   "metadata": {},
   "source": [
    "# Tokenizer"
   ]
  },
  {
   "cell_type": "code",
   "execution_count": 63,
   "id": "7abce951",
   "metadata": {},
   "outputs": [],
   "source": [
    "def data_iterator(data):\n",
    "    for row in data:\n",
    "        yield \" \".join(row[\"scramble\"])\n",
    "        yield \" \".join(row[\"solve\"])"
   ]
  },
  {
   "cell_type": "code",
   "execution_count": 64,
   "id": "a9b5400c",
   "metadata": {},
   "outputs": [],
   "source": [
    "if not os.path.exists(\"rubiks-tokenizer\"):\n",
    "    tokenizer = Tokenizer(WordLevel())\n",
    "    tokenizer.pre_tokenizer = WhitespaceSplit()\n",
    "\n",
    "    trainer = WordLevelTrainer(\n",
    "        special_tokens=[\"<bos>\", \"<eos>\", \"<unk>\"],\n",
    "        show_progress=True,\n",
    "    )\n",
    "\n",
    "    tokenizer.train_from_iterator(\n",
    "        data_iterator(data), trainer=trainer, length=len(data)\n",
    "    )\n",
    "\n",
    "    bos_id = tokenizer.token_to_id(\"<bos>\")\n",
    "    eos_id = tokenizer.token_to_id(\"<eos>\")\n",
    "\n",
    "    tokenizer.post_processor = TemplateProcessing(\n",
    "        single=\"<bos> $0 <eos>\",\n",
    "        pair=\"<bos> $A <eos> $B:1 <eos>:1\",\n",
    "        special_tokens=[(\"<bos>\", bos_id), (\"<eos>\", eos_id)],\n",
    "    )\n",
    "\n",
    "    tokenizer = PreTrainedTokenizerFast(\n",
    "        tokenizer_object=tokenizer,\n",
    "        unk_token=\"<unk>\",\n",
    "        bos_token=\"<bos>\",\n",
    "        eos_token=\"<eos>\",\n",
    "    )\n",
    "    tokenizer.save_pretrained(\"rubiks-tokenizer\")"
   ]
  },
  {
   "cell_type": "code",
   "execution_count": 65,
   "id": "d4721f70",
   "metadata": {},
   "outputs": [],
   "source": [
    "tokenizer = PreTrainedTokenizerFast.from_pretrained(\"rubiks-tokenizer\")"
   ]
  },
  {
   "cell_type": "markdown",
   "id": "cb6c5d34",
   "metadata": {},
   "source": [
    "# Dataset "
   ]
  },
  {
   "cell_type": "code",
   "execution_count": 66,
   "id": "c634a28f",
   "metadata": {},
   "outputs": [
    {
     "name": "stderr",
     "output_type": "stream",
     "text": [
      "Saving the dataset (1/1 shards): 100%|██████████| 6972/6972 [00:00<00:00, 509090.85 examples/s]\n",
      "Saving the dataset (1/1 shards): 100%|██████████| 1744/1744 [00:00<00:00, 333646.51 examples/s]\n"
     ]
    },
    {
     "data": {
      "text/plain": [
       "DatasetDict({\n",
       "    train: Dataset({\n",
       "        features: ['scramble', 'solve'],\n",
       "        num_rows: 6972\n",
       "    })\n",
       "    test: Dataset({\n",
       "        features: ['scramble', 'solve'],\n",
       "        num_rows: 1744\n",
       "    })\n",
       "})"
      ]
     },
     "execution_count": 66,
     "metadata": {},
     "output_type": "execute_result"
    }
   ],
   "source": [
    "def dataset_generator():\n",
    "    for row in data:\n",
    "        yield {\n",
    "            \"scramble\": \" \".join(row[\"scramble\"]),\n",
    "            \"solve\": \" \".join(row[\"solve\"]),\n",
    "        }\n",
    "\n",
    "\n",
    "dataset = Dataset.from_generator(dataset_generator)\n",
    "dataset = dataset.train_test_split(test_size=0.2)\n",
    "dataset.save_to_disk(\"rubiks-dataset\")\n",
    "dataset"
   ]
  },
  {
   "cell_type": "code",
   "execution_count": null,
   "id": "4560d9ba",
   "metadata": {},
   "outputs": [
    {
     "data": {
      "text/plain": [
       "\"<bos> D2 L2 F2 D U2 R2 U' R' F2 L' U F2 R B' L2 D' B2 L2 R2 <eos> Z U' r' u R' u' U L' U L2 U' L' U' Y' R U' R2' U R U R U R' U' L U' L' U R U' R' U R U' R' U' R' F' r U R U' L' U X' U2 <eos>\""
      ]
     },
     "execution_count": 68,
     "metadata": {},
     "output_type": "execute_result"
    }
   ],
   "source": [
    "scramble, solve = dataset[\"test\"][0][\"scramble\"], dataset[\"test\"][0][\"solve\"]\n",
    "\n",
    "tokenized = tokenizer(text=scramble, text_pair=solve)\n",
    "tokenizer.decode(token_ids=tokenized[\"input_ids\"])"
   ]
  }
 ],
 "metadata": {
  "kernelspec": {
   "display_name": "rubiks",
   "language": "python",
   "name": "python3"
  },
  "language_info": {
   "codemirror_mode": {
    "name": "ipython",
    "version": 3
   },
   "file_extension": ".py",
   "mimetype": "text/x-python",
   "name": "python",
   "nbconvert_exporter": "python",
   "pygments_lexer": "ipython3",
   "version": "3.11.13"
  }
 },
 "nbformat": 4,
 "nbformat_minor": 5
}
