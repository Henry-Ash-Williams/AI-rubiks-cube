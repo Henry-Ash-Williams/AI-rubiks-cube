{
 "cells": [
  {
   "cell_type": "code",
   "execution_count": null,
   "id": "1b2a25a2",
   "metadata": {},
   "outputs": [],
   "source": [
    "import os\n",
    "import json\n",
    "\n",
    "from tokenizers import Tokenizer\n",
    "from tokenizers.pre_tokenizers import WhitespaceSplit\n",
    "from tokenizers.models import WordLevel\n",
    "from tokenizers.processors import TemplateProcessing\n",
    "from tokenizers.trainers import WordLevelTrainer\n",
    "from transformers import PreTrainedTokenizerFast\n",
    "from datasets import Dataset\n",
    "\n",
    "with open(\"solves.json\", \"r\") as f:\n",
    "    data = json.load(f)"
   ]
  },
  {
   "cell_type": "markdown",
   "id": "8fbc45a8",
   "metadata": {},
   "source": [
    "# Tokenizer"
   ]
  },
  {
   "cell_type": "code",
   "execution_count": null,
   "id": "7abce951",
   "metadata": {},
   "outputs": [],
   "source": [
    "def data_iterator(data):\n",
    "    for row in data:\n",
    "        yield \" \".join(row[\"scramble\"])\n",
    "        yield \" \".join(row[\"solve\"])"
   ]
  },
  {
   "cell_type": "code",
   "execution_count": null,
   "id": "a9b5400c",
   "metadata": {},
   "outputs": [],
   "source": [
    "if not os.path.exists(\"rubiks-tokenizer\"):\n",
    "    tokenizer = Tokenizer(WordLevel())\n",
    "    tokenizer.pre_tokenizer = WhitespaceSplit()\n",
    "    tokenizer.post_processor = TemplateProcessing(\n",
    "        single=\"<bos> $A <eos>\", special_tokens=[(\"<bos>\", 0), (\"<eos>\", 1)]\n",
    "    )\n",
    "\n",
    "    trainer = WordLevelTrainer(\n",
    "        special_tokens=[\"<bos>\", \"<eos>\"],\n",
    "        show_progress=True,\n",
    "    )\n",
    "\n",
    "    tokenizer.train_from_iterator(\n",
    "        data_iterator(data), trainer=trainer, length=len(data)\n",
    "    )\n",
    "    tokenizer = PreTrainedTokenizerFast(\n",
    "        tokenizer_object=tokenizer,\n",
    "        unk_token=\"<unk>\",\n",
    "        bos_token=\"<bos>\",\n",
    "        eos_token=\"<eos>\",\n",
    "    )\n",
    "    tokenizer.save_pretrained(\"rubiks-tokenizer\")"
   ]
  },
  {
   "cell_type": "code",
   "execution_count": null,
   "id": "d4721f70",
   "metadata": {},
   "outputs": [],
   "source": [
    "tokenizer = PreTrainedTokenizerFast.from_pretrained(\"rubiks-tokenizer\")"
   ]
  },
  {
   "cell_type": "markdown",
   "id": "cb6c5d34",
   "metadata": {},
   "source": [
    "# Dataset "
   ]
  },
  {
   "cell_type": "code",
   "execution_count": null,
   "id": "c634a28f",
   "metadata": {},
   "outputs": [],
   "source": [
    "def dataset_generator():\n",
    "    for row in data:\n",
    "        yield {\n",
    "            \"scramble\": \" \".join(row[\"scramble\"]),\n",
    "            \"solve\": \" \".join(row[\"solve\"]),\n",
    "        }\n",
    "\n",
    "\n",
    "dataset = Dataset.from_generator(dataset_generator)\n",
    "dataset = dataset.train_test_split(test_size=0.2)\n",
    "dataset.save_to_disk(\"rubiks-dataset\")"
   ]
  }
 ],
 "metadata": {
  "kernelspec": {
   "display_name": "rubiks",
   "language": "python",
   "name": "python3"
  },
  "language_info": {
   "codemirror_mode": {
    "name": "ipython",
    "version": 3
   },
   "file_extension": ".py",
   "mimetype": "text/x-python",
   "name": "python",
   "nbconvert_exporter": "python",
   "pygments_lexer": "ipython3",
   "version": "3.11.13"
  }
 },
 "nbformat": 4,
 "nbformat_minor": 5
}
