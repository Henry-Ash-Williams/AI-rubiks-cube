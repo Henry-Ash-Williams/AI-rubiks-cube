{
 "cells": [
  {
   "cell_type": "markdown",
   "id": "1aff6bc6",
   "metadata": {},
   "source": [
    "# Synthetic Data\n",
    "\n",
    "Use the scraped data to produce similar sequences of moves that do not produce a solved cube. "
   ]
  },
  {
   "cell_type": "code",
   "execution_count": 1,
   "id": "bffef82c",
   "metadata": {},
   "outputs": [
    {
     "name": "stderr",
     "output_type": "stream",
     "text": [
      "/Users/henrywilliams/Documents/programming/python/ai/rubiks/.venv/lib/python3.11/site-packages/tqdm/auto.py:21: TqdmWarning: IProgress not found. Please update jupyter and ipywidgets. See https://ipywidgets.readthedocs.io/en/stable/user_install.html\n",
      "  from .autonotebook import tqdm as notebook_tqdm\n"
     ]
    }
   ],
   "source": [
    "from transformers import PreTrainedTokenizerFast\n",
    "from utils import Reconstruction\n",
    "from tqdm import tqdm\n",
    "\n",
    "import json\n",
    "import random\n",
    "\n",
    "with open(\"../solves.json\", \"r\") as file:\n",
    "    data = json.load(file)\n",
    "\n",
    "tokenizer = PreTrainedTokenizerFast.from_pretrained(\"../rubiks-tokenizer\")\n",
    "N_UNSOLVED_SAMPLES = 5 * len(data)\n",
    "P_CHANGE_MOVE = 0.1"
   ]
  },
  {
   "cell_type": "code",
   "execution_count": 2,
   "id": "95330ce4",
   "metadata": {},
   "outputs": [
    {
     "name": "stderr",
     "output_type": "stream",
     "text": [
      "100%|██████████| 43580/43580 [04:31<00:00, 163.12it/s, Attempts: 0]"
     ]
    }
   ],
   "source": [
    "new_samples = []\n",
    "loop = tqdm(\"Generating new samples\", total=N_UNSOLVED_SAMPLES)\n",
    "attempts = 0\n",
    "while len(new_samples) < N_UNSOLVED_SAMPLES:\n",
    "    attempts += 1\n",
    "    sample = random.choice(data)\n",
    "    tokenized_solution = tokenizer(\" \".join(sample[\"solve\"]))\n",
    "    new_solution = []\n",
    "\n",
    "    for i, token in enumerate(tokenized_solution[\"input_ids\"]):\n",
    "        if token in [0, 1]:\n",
    "            continue\n",
    "\n",
    "        if random.random() <= P_CHANGE_MOVE:\n",
    "            new_solution.append(random.randint(4, 69))\n",
    "        else:\n",
    "            new_solution.append(token)\n",
    "\n",
    "    new_solve = tokenizer.decode(new_solution)\n",
    "    tmp_r = Reconstruction(\"\", \" \".join(sample[\"scramble\"]), new_solve)\n",
    "\n",
    "    if not tmp_r.is_valid():\n",
    "        new_samples.append(tmp_r.to_dict())\n",
    "        loop.update()\n",
    "        attempts = 0\n",
    "    loop.set_postfix_str(f\"Attempts: {attempts}\")"
   ]
  },
  {
   "cell_type": "code",
   "execution_count": 4,
   "id": "ff874735",
   "metadata": {},
   "outputs": [
    {
     "name": "stderr",
     "output_type": "stream",
     "text": [
      "Saving the dataset (1/1 shards): 100%|██████████| 41836/41836 [00:00<00:00, 300037.79 examples/s]\n",
      "Saving the dataset (1/1 shards): 100%|██████████| 10460/10460 [00:00<00:00, 309551.47 examples/s]\n"
     ]
    }
   ],
   "source": [
    "from datasets import Dataset\n",
    "\n",
    "\n",
    "def dataset_generator():\n",
    "    for label, collection in enumerate([new_samples, data]):\n",
    "        for sample in collection:\n",
    "            yield {\n",
    "                \"scramble\": sample[\"scramble\"],\n",
    "                \"solve\": sample[\"solve\"],\n",
    "                \"is_solved\": label,\n",
    "            }\n",
    "\n",
    "\n",
    "dataset = Dataset.from_generator(dataset_generator)\n",
    "dataset = dataset.train_test_split(test_size=0.2)\n",
    "dataset.save_to_disk(\"../rubiks-is-solved-dataset\")"
   ]
  },
  {
   "cell_type": "code",
   "execution_count": null,
   "id": "5bf375d7",
   "metadata": {},
   "outputs": [],
   "source": [
    "sample = random.choice(data)"
   ]
  },
  {
   "cell_type": "code",
   "execution_count": null,
   "id": "fe1ad246",
   "metadata": {},
   "outputs": [
    {
     "data": {
      "text/html": [
       "<pre style=\"white-space:pre;overflow-x:auto;line-height:normal;font-family:Menlo,'DejaVu Sans Mono',consolas,'Courier New',monospace\">    GYY\n",
       "    ROB\n",
       "    RBW\n",
       "BBG WOY RGO BWR\n",
       "RYO WWO GGY BBG\n",
       "WWY RRG OOW ORO\n",
       "    BWB\n",
       "    GRY\n",
       "    YYG\n",
       "</pre>\n"
      ],
      "text/plain": [
       "    GYY\n",
       "    ROB\n",
       "    RBW\n",
       "BBG WOY RGO BWR\n",
       "RYO WWO GGY BBG\n",
       "WWY RRG OOW ORO\n",
       "    BWB\n",
       "    GRY\n",
       "    YYG\n"
      ]
     },
     "metadata": {},
     "output_type": "display_data"
    },
    {
     "data": {
      "text/html": [
       "<pre style=\"white-space:pre;overflow-x:auto;line-height:normal;font-family:Menlo,'DejaVu Sans Mono',consolas,'Courier New',monospace\">Solve:  B L L U B B B Ui R R Z Li Li E L Ei Li Ui B B B U Ei R E Ri Zi B B B B D Bi Di Z B B B D Bi Di Z B D Bi Di \n",
       "Z D B Di B B B Ri B B R Bi Bi D Bi Di Z B B L Bi Li Bi Di B D Z B B B B L Bi Li Bi Di B D Z B B B Bi Di B D B L Bi \n",
       "Li Z Bi Di B D B L Bi Li Z X X Xi Xi X X F Li Fi L D F Di Li F L F Li Fi L D F Di Li F L F F F Li Fi L D F Di Li F \n",
       "L F Xi Xi X X F Ri Fi R Fi Ri F F R F F F F F Xi Xi X X Ri S Ri Ri S S Ri Fi Fi R Si Si Ri Ri Si R Fi Fi Z Z Z Z Z \n",
       "Ri S Ri Ri S S Ri Fi Fi R Si Si Ri Ri Si R Fi Fi Zi Xi Xi\n",
       "</pre>\n"
      ],
      "text/plain": [
       "Solve:  B L L U B B B Ui R R Z Li Li E L Ei Li Ui B B B U Ei R E Ri Zi B B B B D Bi Di Z B B B D Bi Di Z B D Bi Di \n",
       "Z D B Di B B B Ri B B R Bi Bi D Bi Di Z B B L Bi Li Bi Di B D Z B B B B L Bi Li Bi Di B D Z B B B Bi Di B D B L Bi \n",
       "Li Z Bi Di B D B L Bi Li Z X X Xi Xi X X F Li Fi L D F Di Li F L F Li Fi L D F Di Li F L F F F Li Fi L D F Di Li F \n",
       "L F Xi Xi X X F Ri Fi R Fi Ri F F R F F F F F Xi Xi X X Ri S Ri Ri S S Ri Fi Fi R Si Si Ri Ri Si R Fi Fi Z Z Z Z Z \n",
       "Ri S Ri Ri S S Ri Fi Fi R Si Si Ri Ri Si R Fi Fi Zi Xi Xi\n"
      ]
     },
     "metadata": {},
     "output_type": "display_data"
    },
    {
     "data": {
      "text/html": [
       "<pre style=\"white-space:pre;overflow-x:auto;line-height:normal;font-family:Menlo,'DejaVu Sans Mono',consolas,'Courier New',monospace\">Generated solve:  Zi Y U R Mi Di L L Fi U D R Ui Ri U U Yi Ri Ui R R Ui Ui Ri U R Ui Ri Ui Yi R Ui Ui Ri U R Ui Ri \n",
       "Li U L U Li Ui L Ui Ui Li U L U Ri Ri M M Di R Mi U Ri M D R R Mi Mi Ui Ri M Ui R Mi Mi Mi Ui M U U Mi Ui Mi Mi U U\n",
       "</pre>\n"
      ],
      "text/plain": [
       "Generated solve:  Zi Y U R Mi Di L L Fi U D R Ui Ri U U Yi Ri Ui R R Ui Ui Ri U R Ui Ri Ui Yi R Ui Ui Ri U R Ui Ri \n",
       "Li U L U Li Ui L Ui Ui Li U L U Ri Ri M M Di R Mi U Ri M D R R Mi Mi Ui Ri M Ui R Mi Mi Mi Ui M U U Mi Ui Mi Mi U U\n"
      ]
     },
     "metadata": {},
     "output_type": "display_data"
    }
   ],
   "source": [
    "from utils import MoveSequence, cube_from_scramble\n",
    "from rubik.solve import Solver\n",
    "\n",
    "scramble = MoveSequence(\" \".join(sample[\"scramble\"]))\n",
    "c = cube_from_scramble(str(scramble))\n",
    "print(c)\n",
    "solver = Solver(c)\n",
    "solver.solve()\n",
    "print(\"Solve: \", \" \".join(solver.moves))\n",
    "print(\"Generated solve: \", str(MoveSequence(\" \".join(sample[\"solve\"]))))"
   ]
  }
 ],
 "metadata": {
  "kernelspec": {
   "display_name": "rubiks",
   "language": "python",
   "name": "python3"
  },
  "language_info": {
   "codemirror_mode": {
    "name": "ipython",
    "version": 3
   },
   "file_extension": ".py",
   "mimetype": "text/x-python",
   "name": "python",
   "nbconvert_exporter": "python",
   "pygments_lexer": "ipython3",
   "version": "3.11.13"
  }
 },
 "nbformat": 4,
 "nbformat_minor": 5
}
