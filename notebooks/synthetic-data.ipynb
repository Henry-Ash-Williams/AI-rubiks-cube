{
 "cells": [
  {
   "cell_type": "markdown",
   "id": "1aff6bc6",
   "metadata": {},
   "source": [
    "# Synthetic Data\n",
    "\n",
    "Use the scraped data to produce similar sequences of moves that do not produce a solved cube. "
   ]
  },
  {
   "cell_type": "code",
   "execution_count": 1,
   "id": "bffef82c",
   "metadata": {},
   "outputs": [
    {
     "name": "stderr",
     "output_type": "stream",
     "text": [
      "/Users/henrywilliams/Documents/programming/python/ai/rubiks/.venv/lib/python3.11/site-packages/tqdm/auto.py:21: TqdmWarning: IProgress not found. Please update jupyter and ipywidgets. See https://ipywidgets.readthedocs.io/en/stable/user_install.html\n",
      "  from .autonotebook import tqdm as notebook_tqdm\n"
     ]
    }
   ],
   "source": [
    "from transformers import PreTrainedTokenizerFast\n",
    "from utils import Reconstruction\n",
    "from tqdm import tqdm\n",
    "\n",
    "import json\n",
    "import random\n",
    "\n",
    "with open(\"../solves.json\", \"r\") as file:\n",
    "    data = json.load(file)\n",
    "\n",
    "tokenizer = PreTrainedTokenizerFast.from_pretrained(\"../rubiks-tokenizer\")\n",
    "N_UNSOLVED_SAMPLES = 2 * len(data)\n",
    "P_CHANGE_MOVE = 0.1"
   ]
  },
  {
   "cell_type": "code",
   "execution_count": 2,
   "id": "95330ce4",
   "metadata": {},
   "outputs": [
    {
     "name": "stderr",
     "output_type": "stream",
     "text": [
      "100%|██████████| 17432/17432 [01:49<00:00, 155.88it/s, Attempts: 0]"
     ]
    }
   ],
   "source": [
    "new_samples = []\n",
    "loop = tqdm(\"Generating new samples\", total=N_UNSOLVED_SAMPLES)\n",
    "attempts = 0\n",
    "while len(new_samples) < N_UNSOLVED_SAMPLES:\n",
    "    attempts += 1\n",
    "    sample = random.choice(data)\n",
    "    tokenized_solution = tokenizer(\" \".join(sample[\"solve\"]))\n",
    "    new_solution = []\n",
    "\n",
    "    for i, token in enumerate(tokenized_solution[\"input_ids\"]):\n",
    "        if token in [0, 1]:\n",
    "            continue\n",
    "\n",
    "        if random.random() <= P_CHANGE_MOVE:\n",
    "            new_solution.append(random.randint(4, 69))\n",
    "        else:\n",
    "            new_solution.append(token)\n",
    "\n",
    "    new_solve = tokenizer.decode(new_solution)\n",
    "    tmp_r = Reconstruction(\"\", \" \".join(sample[\"scramble\"]), new_solve)\n",
    "\n",
    "    if not tmp_r.is_valid():\n",
    "        new_samples.append(tmp_r.to_dict())\n",
    "        loop.update()\n",
    "        attempts = 0\n",
    "    loop.set_postfix_str(f\"Attempts: {attempts}\")"
   ]
  },
  {
   "cell_type": "code",
   "execution_count": 3,
   "id": "ff874735",
   "metadata": {},
   "outputs": [
    {
     "name": "stderr",
     "output_type": "stream",
     "text": [
      "Generating train split: 26148 examples [00:00, 189224.88 examples/s]\n",
      "Saving the dataset (1/1 shards): 100%|██████████| 20918/20918 [00:00<00:00, 321621.63 examples/s]\n",
      "Saving the dataset (1/1 shards): 100%|██████████| 5230/5230 [00:00<00:00, 304508.87 examples/s]\n"
     ]
    },
    {
     "name": "stderr",
     "output_type": "stream",
     "text": [
      "100%|██████████| 17432/17432 [02:00<00:00, 155.88it/s, Attempts: 0]"
     ]
    }
   ],
   "source": [
    "from datasets import Dataset\n",
    "\n",
    "\n",
    "def dataset_generator():\n",
    "    for label, collection in enumerate([new_samples, data]):\n",
    "        for sample in collection:\n",
    "            yield {\n",
    "                \"scramble\": sample[\"scramble\"],\n",
    "                \"solve\": sample[\"solve\"],\n",
    "                \"is_solved\": label,\n",
    "            }\n",
    "\n",
    "\n",
    "dataset = Dataset.from_generator(dataset_generator)\n",
    "dataset = dataset.train_test_split(test_size=0.2)\n",
    "dataset.save_to_disk(\"../rubiks-is-solved-dataset\")"
   ]
  }
 ],
 "metadata": {
  "kernelspec": {
   "display_name": "rubiks",
   "language": "python",
   "name": "python3"
  },
  "language_info": {
   "codemirror_mode": {
    "name": "ipython",
    "version": 3
   },
   "file_extension": ".py",
   "mimetype": "text/x-python",
   "name": "python",
   "nbconvert_exporter": "python",
   "pygments_lexer": "ipython3",
   "version": "3.11.13"
  }
 },
 "nbformat": 4,
 "nbformat_minor": 5
}
