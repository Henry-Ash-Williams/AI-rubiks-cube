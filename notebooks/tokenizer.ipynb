{
 "cells": [
  {
   "cell_type": "markdown",
   "id": "d6880f5d",
   "metadata": {},
   "source": [
    "# Tokenizer\n",
    "\n",
    "Make a tokenizer for our sequences"
   ]
  },
  {
   "cell_type": "code",
   "execution_count": null,
   "id": "1b2a25a2",
   "metadata": {},
   "outputs": [
    {
     "data": {
      "text/plain": [
       "8716"
      ]
     },
     "execution_count": 21,
     "metadata": {},
     "output_type": "execute_result"
    }
   ],
   "source": [
    "import os\n",
    "import json\n",
    "\n",
    "from tokenizers import Tokenizer\n",
    "from tokenizers.pre_tokenizers import WhitespaceSplit\n",
    "from tokenizers.models import WordLevel\n",
    "from tokenizers.processors import TemplateProcessing\n",
    "from tokenizers.trainers import WordLevelTrainer\n",
    "from transformers import PreTrainedTokenizerFast\n",
    "\n",
    "with open(\"../solves.json\", \"r\") as f:\n",
    "    data = json.load(f)\n",
    "\n",
    "len(data)"
   ]
  },
  {
   "cell_type": "code",
   "execution_count": 22,
   "id": "7abce951",
   "metadata": {},
   "outputs": [],
   "source": [
    "def data_iterator(data):\n",
    "    for row in data:\n",
    "        yield \" \".join(row[\"scramble\"])\n",
    "        yield \" \".join(row[\"solve\"])"
   ]
  },
  {
   "cell_type": "code",
   "execution_count": null,
   "id": "a9b5400c",
   "metadata": {},
   "outputs": [],
   "source": [
    "if not os.path.exists(\"../rubiks-tokenizer\") and True:\n",
    "    tokenizer = Tokenizer(WordLevel())\n",
    "    tokenizer.pre_tokenizer = WhitespaceSplit()\n",
    "\n",
    "    trainer = WordLevelTrainer(\n",
    "        special_tokens=[\"<bos>\", \"<eos>\", \"<unk>\", \"<pad>\"],\n",
    "        show_progress=True,\n",
    "    )\n",
    "\n",
    "    tokenizer.train_from_iterator(\n",
    "        data_iterator(data), trainer=trainer, length=len(data)\n",
    "    )\n",
    "\n",
    "    bos_id = tokenizer.token_to_id(\"<bos>\")\n",
    "    eos_id = tokenizer.token_to_id(\"<eos>\")\n",
    "\n",
    "    tokenizer.post_processor = TemplateProcessing(\n",
    "        single=\"<bos> $0 <eos>\",\n",
    "        pair=\"<bos> $A <eos> $B:1 <eos>:1\",\n",
    "        special_tokens=[(\"<bos>\", bos_id), (\"<eos>\", eos_id)],\n",
    "    )\n",
    "\n",
    "    tokenizer = PreTrainedTokenizerFast(\n",
    "        tokenizer_object=tokenizer,\n",
    "        unk_token=\"<unk>\",\n",
    "        bos_token=\"<bos>\",\n",
    "        eos_token=\"<eos>\",\n",
    "        pad_token=\"<pad>\",\n",
    "    )\n",
    "    tokenizer.save_pretrained(\"../rubiks-tokenizer\")"
   ]
  },
  {
   "cell_type": "code",
   "execution_count": 24,
   "id": "d4721f70",
   "metadata": {},
   "outputs": [],
   "source": [
    "tokenizer = PreTrainedTokenizerFast.from_pretrained(\"../rubiks-tokenizer\")"
   ]
  }
 ],
 "metadata": {
  "kernelspec": {
   "display_name": "rubiks",
   "language": "python",
   "name": "python3"
  },
  "language_info": {
   "codemirror_mode": {
    "name": "ipython",
    "version": 3
   },
   "file_extension": ".py",
   "mimetype": "text/x-python",
   "name": "python",
   "nbconvert_exporter": "python",
   "pygments_lexer": "ipython3",
   "version": "3.11.13"
  }
 },
 "nbformat": 4,
 "nbformat_minor": 5
}
